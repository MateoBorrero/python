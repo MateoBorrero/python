{
  "nbformat": 4,
  "nbformat_minor": 0,
  "metadata": {
    "colab": {
      "name": "Fundamentos.ipynb",
      "provenance": [],
      "collapsed_sections": [],
      "toc_visible": true,
      "authorship_tag": "ABX9TyNPszYJwxESGUd5iC5hw3T+",
      "include_colab_link": true
    },
    "kernelspec": {
      "name": "python3",
      "display_name": "Python 3"
    },
    "language_info": {
      "name": "python"
    }
  },
  "cells": [
    {
      "cell_type": "markdown",
      "metadata": {
        "id": "view-in-github",
        "colab_type": "text"
      },
      "source": [
        "<a href=\"https://colab.research.google.com/github/MateoBorrero/python/blob/main/Fundamentos.ipynb\" target=\"_parent\"><img src=\"https://colab.research.google.com/assets/colab-badge.svg\" alt=\"Open In Colab\"/></a>"
      ]
    },
    {
      "cell_type": "markdown",
      "source": [
        "Fundamentos de programacion - Python"
      ],
      "metadata": {
        "id": "OwX3wYr0XcT3"
      }
    },
    {
      "cell_type": "code",
      "execution_count": null,
      "metadata": {
        "colab": {
          "base_uri": "https://localhost:8080/"
        },
        "id": "o-vznmYdXPWC",
        "outputId": "df628911-d417-4720-ad6a-0ff7266dd70d"
      },
      "outputs": [
        {
          "output_type": "stream",
          "name": "stdout",
          "text": [
            "Querido profesor, el resultado es:  57\n"
          ]
        }
      ],
      "source": [
        "x = 15\n",
        "y = 42\n",
        "z = (x + y)\n",
        "\n",
        "print(\"Querido profesor, el resultado es: \", z)"
      ]
    },
    {
      "cell_type": "markdown",
      "source": [
        "Comentario"
      ],
      "metadata": {
        "id": "pNFfOxqZZ_m9"
      }
    },
    {
      "cell_type": "code",
      "source": [
        "# Comentarios con una sola línea de código\n",
        "\n",
        "\"\"\"Esto es un comentario \n",
        "de varias líneas \n",
        "de código para que\n",
        "no se nos olvide \n",
        "qué estamos haciendo\"\"\""
      ],
      "metadata": {
        "id": "AyPZvUvHaMc8"
      },
      "execution_count": null,
      "outputs": []
    },
    {
      "cell_type": "markdown",
      "source": [
        "Palabra reservada print()"
      ],
      "metadata": {
        "id": "8weDM6Esbg2c"
      }
    },
    {
      "cell_type": "code",
      "source": [
        "# Imprimir en pantalla\n",
        "\n",
        "print(\"Este es nuestro primer programa en\")\n",
        "print('*************PYTHON***************')"
      ],
      "metadata": {
        "id": "aGdQ3UP1btP8",
        "colab": {
          "base_uri": "https://localhost:8080/"
        },
        "outputId": "5976d0e9-1c0d-484e-eb10-763da091dd2f"
      },
      "execution_count": null,
      "outputs": [
        {
          "output_type": "stream",
          "name": "stdout",
          "text": [
            "Este es nuestro primer programa en\n",
            "*************PYTHON***************\n"
          ]
        }
      ]
    },
    {
      "cell_type": "markdown",
      "source": [
        "Tipos de Datos"
      ],
      "metadata": {
        "id": "fX3VnJKBdrqC"
      }
    },
    {
      "cell_type": "code",
      "source": [
        "x = 15    #Entero = int\n",
        "y = 42.5  #Flotante = float\n",
        "z = (x + y)\n",
        "a = f'El resultado es: {z}' #string = str\n",
        "\n",
        "print(a)\n",
        "print('******************Palabra reservada type()******************')\n",
        "\n",
        "print(\"Tipo de dato x\", x, \":\", type(x))\n",
        "print(\"Tipo de dato y\", y, \":\", type(y))\n",
        "print(\"Tipo de dato a\", a, \":\", type(a))\n",
        "print(\"Tipo de dato z\", z, \":\", type(z))\n",
        "\n",
        "print(\"******************Más facilito*******************\")\n",
        "print(f'Tipo de dato x {x} : {type(x)}')\n",
        "print(f'Tipo de dato y {y} : {type(y)}')\n",
        "print(f'Tipo de dato z {z} : {type(z)}')\n",
        "print(f'Tipo de dato a {a} : {type(a)}')\n",
        "\n",
        "#Tipo de datos cadena = string\n",
        "\n",
        "nom_aprendiz = \"Mateo\"\n",
        "ape_aprendiz = \"Borrero\"\n",
        "correo_electronico = \"mateduardobz@gmail.com\"\n",
        "print(f\"El aprendiz se llama {nom_aprendiz} {ape_aprendiz} y su email es {correo_electronico}\")\n",
        "\n",
        "#Tipo de datos booleanos\n",
        "\n",
        "estado = True\n",
        "estado_falso = False\n",
        "print(f\"Tipo de dato estado {estado} : {type(estado)}\")\n",
        "print(f\"Tipo de dato estado_falso {estado} : {type(estado_falso)}\")"
      ],
      "metadata": {
        "colab": {
          "base_uri": "https://localhost:8080/"
        },
        "id": "US3EH_4mdvCC",
        "outputId": "02fe427b-1937-4a13-dd1f-c40d7463c5c2"
      },
      "execution_count": null,
      "outputs": [
        {
          "output_type": "stream",
          "name": "stdout",
          "text": [
            "El resultado es: 57.5\n",
            "******************Palabra reservada type()******************\n",
            "Tipo de dato x 15 : <class 'int'>\n",
            "Tipo de dato y 42.5 : <class 'float'>\n",
            "Tipo de dato a El resultado es: 57.5 : <class 'str'>\n",
            "Tipo de dato z 57.5 : <class 'float'>\n",
            "******************Más facilito*******************\n",
            "Tipo de dato x 15 : <class 'int'>\n",
            "Tipo de dato y 42.5 : <class 'float'>\n",
            "Tipo de dato z 57.5 : <class 'float'>\n",
            "Tipo de dato a El resultado es: 57.5 : <class 'str'>\n",
            "El aprendiz se llama Mateo Borrero y su email es mateduardobz@gmail.com\n",
            "Tipo de dato estado True : <class 'bool'>\n",
            "Tipo de dato estado_falso True : <class 'bool'>\n"
          ]
        }
      ]
    },
    {
      "cell_type": "markdown",
      "source": [
        "Ejercicios Prácticos:\n",
        "\n",
        "Temas: Input(), print(), operaciones, int(), float(), str()"
      ],
      "metadata": {
        "id": "DJis50xTM8bD"
      }
    },
    {
      "cell_type": "markdown",
      "source": [
        "perimetroCuadrado\n"
      ],
      "metadata": {
        "id": "J0SvD4JDIl1X"
      }
    },
    {
      "cell_type": "code",
      "source": [
        "\"\"\"Ejercicio 1: Realizar la carga del lado de un cuadrado, mostrar por pantalla el perímetro del mismo \n",
        "(El perímetro de un cuadrado se calcula multiplicando el valor del lado por cuatro).\"\"\"\n",
        "\n",
        "#Entrada de datos\n",
        "lados = float(input(\"Ingrese la medida de los lados del cuadrado: \"))\n",
        "\n",
        "#Operaciones\n",
        "perimetro = (lados * 4)\n",
        "\n",
        "#Salida\n",
        "print(f\"El perímetro del cuadrado cuyos lados miden {lados} es: {perimetro}\")"
      ],
      "metadata": {
        "colab": {
          "base_uri": "https://localhost:8080/"
        },
        "id": "KMYc8uuqIvGv",
        "outputId": "44fec27c-ea37-4b78-fda3-1c44f4e91e94"
      },
      "execution_count": null,
      "outputs": [
        {
          "output_type": "stream",
          "name": "stdout",
          "text": [
            "Ingrese la medida de los lados del cuadrado: 20\n",
            "El perímetro del cuadrado cuyos lados miden 20.0 es: 80.0\n"
          ]
        }
      ]
    },
    {
      "cell_type": "markdown",
      "source": [
        "suma_Y_Producto"
      ],
      "metadata": {
        "id": "uLa6W6xxKcRK"
      }
    },
    {
      "cell_type": "code",
      "source": [
        "\"\"\"Ejercicio 2: Escribir un programa en el cual se ingresen cuatro números, calcular e informar \n",
        "la suma de los dos primeros y el producto del tercero y el cuarto.\"\"\"\n",
        "\n",
        "#Entrada de datos\n",
        "num1 = float(input(\"Digite el primer número: \"))\n",
        "num2 = float(input(\"Digite el segundo número: \"))\n",
        "num3 = float(input(\"Digite el tercer número: \"))\n",
        "num4 = float(input(\"Digite el cuarto número: \"))\n",
        "\n",
        "#Operaciones\n",
        "suma = (num1 + num2)\n",
        "producto = (num3 * num4)\n",
        "\n",
        "#Salida\n",
        "print(f\"La suma de {num1} y {num2} es: {suma}\")\n",
        "print(f\"El producto de {num3} y {num4} es: {producto}\")"
      ],
      "metadata": {
        "colab": {
          "base_uri": "https://localhost:8080/"
        },
        "id": "HAeKDQ_FKg1O",
        "outputId": "029c0970-8c07-41ac-f68e-d5872f3f41e0"
      },
      "execution_count": null,
      "outputs": [
        {
          "output_type": "stream",
          "name": "stdout",
          "text": [
            "Digite el primer número: 23.6\n",
            "Digite el segundo número: 58.4\n",
            "Digite el tercer número: 24\n",
            "Digite el cuarto número: 3\n",
            "La suma de 23.6 y 58.4 es: 82.0\n",
            "El producto de 24.0 y 3.0 es: 72.0\n"
          ]
        }
      ]
    },
    {
      "cell_type": "markdown",
      "source": [
        "sueldoOperarioBasico"
      ],
      "metadata": {
        "id": "8Nas4rg-MgzM"
      }
    },
    {
      "cell_type": "code",
      "source": [
        "\"\"\"Ejercicio 3: Calcular el sueldo mensual de un operario conociendo la cantidad de horas \n",
        "trabajadas y el valor por hora. Variables enteras, flotantes y cadenas de caracteres\"\"\"\n",
        "\n",
        "# Palabra reservada input()\n",
        "# int() ó float() cuando capturamos un dato por teclado y que se requiera hacer operaciones aritméticas\n",
        "\n",
        "#Entrada de datos\n",
        "sueldo = float(input(\"Registre el valor de la hora del operario: \"))\n",
        "horas_trab = int(input(\"Registre las horas trabajadas: \"))\n",
        "\n",
        "#Operaciones\n",
        "sueldoMen = (sueldo * horas_trab)\n",
        "\n",
        "#Salida\n",
        "print(f\"El valor hora: {sueldo} * {horas_trab} horas trabajadas: {sueldoMen}\")"
      ],
      "metadata": {
        "colab": {
          "base_uri": "https://localhost:8080/"
        },
        "id": "FkTmeaJPA9In",
        "outputId": "960ba597-ad94-4c22-be32-9814d52d344c"
      },
      "execution_count": null,
      "outputs": [
        {
          "output_type": "stream",
          "name": "stdout",
          "text": [
            "Registre el valor de la hora del operario: 3000\n",
            "Registre las horas trabajadas: 120\n",
            "El valor hora: 3000.0 * 120 horas trabajadas: 360000.0\n"
          ]
        }
      ]
    },
    {
      "cell_type": "markdown",
      "source": [
        "ordenNombres"
      ],
      "metadata": {
        "id": "y_cxS-JFMPO1"
      }
    },
    {
      "cell_type": "code",
      "source": [
        "\"\"\"Ejercicio 4: Realizar la carga de cuatro nombres de personas distintos. Mostrar \n",
        "por pantalla luego ordenados en forma alfabética, descendente y ascendentemente.\"\"\"\n",
        "\n",
        "#Entrada de datos\n",
        "nombre1 = input(\"Registre el nombre del primer usuario: \")\n",
        "nombre2 = input(\"Registre el nombre del segundo usuario: \")\n",
        "nombre3 = input(\"Registre el nombre del tercer usuario: \")\n",
        "nombre4 = input(\"Registre el nombre del cuarto usuario: \")\n",
        "nombre5 = input(\"Registre el nombre del quinto usuario: \")\n",
        "nombre6 = input(\"Registre el nombre del sexto usuario: \")\n",
        "\n",
        "#Operación de orden\n",
        "nombres = [nombre1, nombre2, nombre3, nombre4, nombre5, nombre6]\n",
        "nombres.sort()\n",
        "nombresrev = sorted(nombres, reverse=True)\n",
        "\n",
        "#Salida\n",
        "print()\n",
        "print(f\"Nombres ordenados ascendentemente: {nombres}\")\n",
        "print(f\"Nombres ordenados descendentemente: {nombresrev}\")\n",
        "\n",
        "print()\n",
        "print(\"Nombres ordenados ascendentemente:\")\n",
        "for nombre in nombres:\n",
        "  print(nombre)\n",
        "  \n",
        "print()\n",
        "print(\"Nombres ordenados descendentemente:\")\n",
        "for nombre in nombresrev:\n",
        "  print(nombre)"
      ],
      "metadata": {
        "colab": {
          "base_uri": "https://localhost:8080/"
        },
        "id": "pmmuNt7TXeit",
        "outputId": "00c458ad-ea82-47e1-ef86-ff703b811712"
      },
      "execution_count": null,
      "outputs": [
        {
          "output_type": "stream",
          "name": "stdout",
          "text": [
            "Registre el nombre del primer usuario: julio\n",
            "Registre el nombre del segundo usuario: darvin\n",
            "Registre el nombre del tercer usuario: marta\n",
            "Registre el nombre del cuarto usuario: fredy\n",
            "Registre el nombre del quinto usuario: daniel\n",
            "Registre el nombre del sexto usuario: andrea\n",
            "\n",
            "Nombres ordenados ascendentemente: ['andrea', 'daniel', 'darvin', 'fredy', 'julio', 'marta']\n",
            "Nombres ordenados descendentemente: ['marta', 'julio', 'fredy', 'darvin', 'daniel', 'andrea']\n",
            "\n",
            "Nombres ordenados ascendentemente:\n",
            "andrea\n",
            "daniel\n",
            "darvin\n",
            "fredy\n",
            "julio\n",
            "marta\n",
            "\n",
            "Nombres ordenados descendentemente:\n",
            "marta\n",
            "julio\n",
            "fredy\n",
            "darvin\n",
            "daniel\n",
            "andrea\n"
          ]
        }
      ]
    },
    {
      "cell_type": "markdown",
      "source": [
        "nombreEdadAltura"
      ],
      "metadata": {
        "id": "uL6Q971aZ9JX"
      }
    },
    {
      "cell_type": "code",
      "source": [
        "\"\"\"Ejercicio 5: Realizar la carga por teclado del nombre, edad y altura de dos \n",
        "personas. Mostrar por pantalla el nombre de la persona con mayor altura.\"\"\"\n",
        "\n",
        "#Entrada de datos\n",
        "nombre1 = input(\"Registre el nombre del primer usuario: \")\n",
        "edad1 = int(input(f\"Digite la edad de {nombre1}: \"))\n",
        "altura1 = float(input(f\"Ingrese la altura de {nombre1}: \"))\n",
        "nombre2 = input(\"Registre el nombre del segundo usuario: \")\n",
        "edad2 = int(input(f\"Digite la edad de {nombre2}: \"))\n",
        "altura2 = float(input(f\"Ingrese la altura de {nombre2}: \"))\n",
        "\n",
        "#Operación y salida\n",
        "if altura1 > altura2 :\n",
        "  print(f\"La persona con mayor altura es: {nombre1}\")\n",
        "else:\n",
        "  print(f\"La persona con mayor altura es: {nombre2}\")"
      ],
      "metadata": {
        "colab": {
          "base_uri": "https://localhost:8080/"
        },
        "id": "7Kp8R6iWaEbs",
        "outputId": "e0a2dbce-9562-4cf6-b061-7c4605bcd0b0"
      },
      "execution_count": null,
      "outputs": [
        {
          "output_type": "stream",
          "name": "stdout",
          "text": [
            "Registre el nombre del primer usuario: Paula\n",
            "Digite la edad de Paula: 23\n",
            "Ingrese la altura de Paula: 1.63\n",
            "Registre el nombre del segundo usuario: Lorena\n",
            "Digite la edad de Lorena: 27\n",
            "Ingrese la altura de Lorena: 1.68\n",
            "La persona con mayor altura es: Lorena\n"
          ]
        }
      ]
    },
    {
      "cell_type": "markdown",
      "source": [
        "nombresTamanio"
      ],
      "metadata": {
        "id": "JpXK1CbYo2qo"
      }
    },
    {
      "cell_type": "code",
      "source": [
        "\"\"\"Ejercicio 6: Realizar la carga de dos nombres por teclado. Mostrar cual de \n",
        "los dos es mayor alfabéticamente o si son iguales.\"\"\"\n",
        "\n",
        "#Entrada de datos\n",
        "nombre1 = input(\"Registre un nombre: \")\n",
        "total1 = len(nombre1)\n",
        "nombre2 = input(\"Registre otro nombre: \")\n",
        "total2 = len(nombre2)\n",
        "\n",
        "#Operación y salida\n",
        "if total1 == total2 :\n",
        "  print(f\"Los nombres son iguales alfabéticamente\")\n",
        "else:\n",
        "  if total1>total2 :\n",
        "    print(f\"El nombre mayor alfabéticamente es: {nombre1}\")\n",
        "  else:\n",
        "    print(f\"El nombre mayor alfabéticamente es: {nombre2}\")"
      ],
      "metadata": {
        "colab": {
          "base_uri": "https://localhost:8080/"
        },
        "id": "uC7_Pqq1o994",
        "outputId": "652173fc-6fb0-4801-c62a-7410001696d4"
      },
      "execution_count": null,
      "outputs": [
        {
          "output_type": "stream",
          "name": "stdout",
          "text": [
            "Registre un nombre: Juan\n",
            "Registre otro nombre: Manuel\n",
            "El nombre mayor alfabéticamente es: Manuel\n"
          ]
        }
      ]
    },
    {
      "cell_type": "code",
      "source": [
        "\"\"\"Escribí un programa que solicite al usuario dos números y los almacene en dos variables. En otra variable, almacená el resultado de la suma de \n",
        "esos dos números y luego mostrá ese resultado en pantalla.\n",
        "A continuación, el programa debe solicitar al usuario que ingrese un tercer número, el cual se debe almacenar en una nueva variable. Por último, \n",
        "mostrá en pantalla el resultado de la multiplicación de este nuevo número por el resultado de la suma anterior.\"\"\""
      ],
      "metadata": {
        "id": "UaRG1gsh7ftF"
      },
      "execution_count": null,
      "outputs": []
    },
    {
      "cell_type": "code",
      "source": [
        "num1 = float(input(\"Inserta un número: \"))\n",
        "num2 = float(input(\"Inserta otro número: \"))\n",
        "resultado = (num1 + num2)\n",
        "\n",
        "print(f\"El resultado de la suma es: {resultado}\")\n",
        "\n",
        "num3 = float(input(\"Inserta un tercer número: \"))\n",
        "resultado_mul = (resultado * num3)\n",
        "print(f\"El resultado de la multiplicación es {resultado_mul} \")"
      ],
      "metadata": {
        "colab": {
          "base_uri": "https://localhost:8080/"
        },
        "id": "VerNf00zdHjP",
        "outputId": "26d326e2-a79b-4791-e939-f0ef2aa06ba2"
      },
      "execution_count": 4,
      "outputs": [
        {
          "output_type": "stream",
          "name": "stdout",
          "text": [
            "Inserta un número: 2\n",
            "Inserta otro número: 3\n",
            "El resultado de la suma es: 5.0\n",
            "Inserta un tercer número: 10\n",
            "El resultado de la multiplicación es 50.0 \n"
          ]
        }
      ]
    }
  ]
}